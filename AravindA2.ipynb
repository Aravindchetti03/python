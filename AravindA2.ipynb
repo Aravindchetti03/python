{
  "nbformat": 4,
  "nbformat_minor": 0,
  "metadata": {
    "colab": {
      "provenance": [],
      "authorship_tag": "ABX9TyMh7kyDigslIhG4s0n89kKh",
      "include_colab_link": true
    },
    "kernelspec": {
      "name": "python3",
      "display_name": "Python 3"
    },
    "language_info": {
      "name": "python"
    }
  },
  "cells": [
    {
      "cell_type": "markdown",
      "metadata": {
        "id": "view-in-github",
        "colab_type": "text"
      },
      "source": [
        "<a href=\"https://colab.research.google.com/github/ARAVINDCHETTI/python/blob/main/AravindA2.ipynb\" target=\"_parent\"><img src=\"https://colab.research.google.com/assets/colab-badge.svg\" alt=\"Open In Colab\"/></a>"
      ]
    },
    {
      "cell_type": "code",
      "execution_count": null,
      "metadata": {
        "colab": {
          "base_uri": "https://localhost:8080/"
        },
        "id": "Dve6aZRaJmvO",
        "outputId": "17f4fd13-8e66-4928-a569-1695cb91b811"
      },
      "outputs": [
        {
          "output_type": "stream",
          "name": "stdout",
          "text": [
            "Enter Rating of Transformer(kVA): 5\n",
            "Enter the input volatge for primary: 220\n",
            "Enter the input volatge for secondary voltage: 440\n",
            "Enter the input volatge for OC test: 220\n",
            "Enter the input volatge for SC test : 75\n",
            "Enter the input current for OC test: : 2\n",
            "Enter the input current for SC test: : 10\n",
            "Enter the input power for OC test: : 250\n",
            "Enter the input powert for Stest: : 500\n",
            "enter pf1\n",
            "enter load X1\n",
            "pf 0.5681818181818182\n",
            "R0 193.6\n",
            "X0 133.67309875319802\n",
            "R refer to rpimary 1.25\n",
            "X ref to prim 0.5590169943749475\n",
            "copper at  1.0 load 500.0\n",
            "enfficeny 86.95652173913044\n",
            "no load phase angle 55.37646452082434\n"
          ]
        }
      ],
      "source": [
        "#rating Srated\n",
        "import math\n",
        "rating=float(input(\"Enter Rating of Transformer(kVA): \"))\n",
        "rating=float(rating*1000)\n",
        "#Pc=core loss\n",
        #"inputPv=float(input(\"Enter the input volatge for primary: \"))\n",
        "inputSv=float(input(\"Enter the input volatge for secondary voltage: \"))\n",
        "inputVoc=float(input(\"Enter the input volatge for OC test: \"))\n",
        "inputVsc=float(input(\"Enter the input volatge for SC test : \"))\n",
        "\n",
        "inputIoc=float(input(\"Enter the input current for OC test: : \"))\n",
        "inputIsc=float(input(\"Enter the input current for SC test: : \"))\n",
        "\n",
        "inputPoc=float(input(\"Enter the input power for OC test: : \"))\n",
        "inputPsc=float(input(\"Enter the input powert for Stest: : \"))\n",
        "pf=float(input(\"enter pf\"))\n",
        "X=float(input(\"enter load X\"))\n",
        "efficiency1 = (X*rating*100)/(X*rating+inputPoc+X*inputPsc)\n",
        "rating / (rating + inputPoc + (X ** 2) * inputIsc) * 100\n",
        "#no load\n",
        "#inputPoc / (inputVoc * inputIoc)\n",
        "Noloadpf=float(inputPoc)/(inputVoc*inputIoc)\n",
        "#Noloadpf=0.568\n",
        "print(\"pf\",Noloadpf)\n",
        "#Coreloss\n",
        "#working comp\n",
        "Iw=float(inputIoc*Noloadpf)\n",
        "\n",
        "Imu = inputIoc * math.sqrt(1 - Noloadpf ** 2)\n",
        "\n",
        "R0=float(inputVoc/Iw)\n",
        "X0=float(inputVoc/Imu)\n",
        "\n",
        "k=float(inputSv/inputPv)\n",
        "\n",
        "Req1=float(inputPsc/inputIsc**2)\n",
        "Zrq1=float(inputVsc/inputIsc)\n",
        "Xeq1=math.sqrt(Zrq1*2-Req1*2)\n",
        "\n",
        "\n",
        "Requ=float(Req1/k**2)\n",
        "Xeeq=float(Xeq1/k**2)\n",
        "copper=inputPsc*X\n",
        "paseangle=math.acos(inputPoc/(inputVoc*inputIoc))\n",
        "noloaphaseang=math.degrees(paseangle)\n",
        "print(\"R0\",R0)\n",
        "print(\"X0\",X0)\n",
        "print(\"R refer to rpimary\",Requ)\n",
        "print(\"X ref to prim\",Xeeq)\n",
        "print(\"copper at \",X,\"load\",copper)\n",
        "print(\"enfficeny\",efficiency1)\n",
        "#npn=float(math.acos(inputPoc/inputVoc*inputIoc))\n",
        "print(\"no load phase angle\",noloaphaseang)"
      ]
    }
  ]
}
